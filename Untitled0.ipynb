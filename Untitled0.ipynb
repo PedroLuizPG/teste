{
  "nbformat": 4,
  "nbformat_minor": 0,
  "metadata": {
    "colab": {
      "provenance": [],
      "authorship_tag": "ABX9TyM5S4MliS8bI0C5K5k9RIiB",
      "include_colab_link": true
    },
    "kernelspec": {
      "name": "python3",
      "display_name": "Python 3"
    },
    "language_info": {
      "name": "python"
    }
  },
  "cells": [
    {
      "cell_type": "markdown",
      "metadata": {
        "id": "view-in-github",
        "colab_type": "text"
      },
      "source": [
        "<a href=\"https://colab.research.google.com/github/PedroLuizPG/teste/blob/main/Untitled0.ipynb\" target=\"_parent\"><img src=\"https://colab.research.google.com/assets/colab-badge.svg\" alt=\"Open In Colab\"/></a>"
      ]
    },
    {
      "cell_type": "code",
      "execution_count": null,
      "metadata": {
        "colab": {
          "base_uri": "https://localhost:8080/"
        },
        "id": "ql2J2D3i_c0K",
        "outputId": "e68716cc-baa3-410c-a1d9-4c2cf21a4d32"
      },
      "outputs": [
        {
          "output_type": "stream",
          "name": "stdout",
          "text": [
            "Generating public/private ed25519 key pair.\n",
            "Your identification has been saved in /root/.ssh/id_ed25519\n",
            "Your public key has been saved in /root/.ssh/id_ed25519.pub\n",
            "The key fingerprint is:\n",
            "SHA256:sWp4oBJFlXcvZi9aNqQnuQW2zeMCyOu7K6uPsJTi2gI peuluiz.13@gmail.com\n",
            "The key's randomart image is:\n",
            "+--[ED25519 256]--+\n",
            "|  ....           |\n",
            "| .  . . .        |\n",
            "|  .  . ...       |\n",
            "| .    o =o.      |\n",
            "|.. ... @So       |\n",
            "|E.+..o=.@ .      |\n",
            "|=o....+X +       |\n",
            "|B=.  o+ .        |\n",
            "|OBB+   .         |\n",
            "+----[SHA256]-----+\n"
          ]
        }
      ],
      "source": [
        "# 1. criar .ssh e ajustar permissões\n",
        "!mkdir -p ~/.ssh\n",
        "!chmod 700 ~/.ssh\n",
        "\n",
        "# 2. gerar chave — ed25519 é recomendada; substitua email@exemplo.com\n",
        "!ssh-keygen -t ed25519 -C \"peuluiz.13@gmail.com\" -f ~/.ssh/id_ed25519 -N \"\"\n",
        "\n",
        "# (se o servidor não aceitar ed25519, use RSA:)\n",
        "# !ssh-keygen -t rsa -b 4096 -C \"seu_email@exemplo.com\" -f ~/.ssh/id_rsa -N \"\""
      ]
    },
    {
      "cell_type": "code",
      "source": [
        "!cat ~/.ssh/id_ed25519.pub\n"
      ],
      "metadata": {
        "id": "eR_pDqbCBnAE",
        "outputId": "bfe9d0a6-48b8-42d9-8ce8-6f2170869d49",
        "colab": {
          "base_uri": "https://localhost:8080/"
        }
      },
      "execution_count": null,
      "outputs": [
        {
          "output_type": "stream",
          "name": "stdout",
          "text": [
            "ssh-ed25519 AAAAC3NzaC1lZDI1NTE5AAAAIEeiOvemuPiC+DX11RJORWObxPhQEPWqb/bgdNIEqbuT peuluiz.13@gmail.com\n"
          ]
        }
      ]
    },
    {
      "cell_type": "code",
      "source": [
        "!ssh-keyscan github.com >> ~/.ssh/known_hosts\n",
        "!chmod 644 ~/.ssh/known_hosts\n"
      ],
      "metadata": {
        "id": "fqRRpE4WBtQy",
        "colab": {
          "base_uri": "https://localhost:8080/"
        },
        "outputId": "82fb8e52-37a1-42e5-ac7c-4c105b368ad0"
      },
      "execution_count": 6,
      "outputs": [
        {
          "output_type": "stream",
          "name": "stdout",
          "text": [
            "# github.com:22 SSH-2.0-85ba476\n",
            "# github.com:22 SSH-2.0-85ba476\n",
            "# github.com:22 SSH-2.0-85ba476\n",
            "# github.com:22 SSH-2.0-85ba476\n",
            "# github.com:22 SSH-2.0-85ba476\n"
          ]
        }
      ]
    },
    {
      "cell_type": "code",
      "source": [
        "!ssh -T git@github.com\n"
      ],
      "metadata": {
        "colab": {
          "base_uri": "https://localhost:8080/"
        },
        "id": "CqMcss6WDBu6",
        "outputId": "1514bba3-628d-44ad-9a76-859e26d0cac2"
      },
      "execution_count": 7,
      "outputs": [
        {
          "output_type": "stream",
          "name": "stdout",
          "text": [
            "Hi PedroLuizPG! You've successfully authenticated, but GitHub does not provide shell access.\n"
          ]
        }
      ]
    },
    {
      "cell_type": "code",
      "source": [
        "print(\"Hello World\")\n",
        "!git add .\n",
        "!git commit -m \"print\"\n",
        "!git push"
      ],
      "metadata": {
        "colab": {
          "base_uri": "https://localhost:8080/"
        },
        "id": "ap_azY6wDMo8",
        "outputId": "937de13d-ebb2-4d07-8785-63a5baa0e6e0"
      },
      "execution_count": 17,
      "outputs": [
        {
          "output_type": "stream",
          "name": "stdout",
          "text": [
            "Hello World\n",
            "On branch main\n",
            "Your branch is up to date with 'origin/main'.\n",
            "\n",
            "nothing to commit, working tree clean\n",
            "Everything up-to-date\n"
          ]
        }
      ]
    },
    {
      "cell_type": "code",
      "source": [
        "!git add ."
      ],
      "metadata": {
        "id": "JW5it3kiECbW"
      },
      "execution_count": 14,
      "outputs": []
    }
  ]
}